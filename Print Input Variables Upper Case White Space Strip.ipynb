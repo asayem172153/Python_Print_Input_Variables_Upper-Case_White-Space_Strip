{
 "cells": [
  {
   "cell_type": "markdown",
   "id": "1421b465-922c-4d5f-9269-19f98d5dd25f",
   "metadata": {},
   "source": [
    "##### 1. Print your name."
   ]
  },
  {
   "cell_type": "code",
   "execution_count": 1,
   "id": "0afa9419-8c85-4abd-8068-9876492703e2",
   "metadata": {},
   "outputs": [
    {
     "name": "stdout",
     "output_type": "stream",
     "text": [
      "Abu Sayem\n"
     ]
    }
   ],
   "source": [
    "print(\"Abu Sayem\")"
   ]
  },
  {
   "cell_type": "markdown",
   "id": "ed156731-a4bc-4c1c-8314-7cb26f21a7fc",
   "metadata": {},
   "source": [
    "##### 2. Input your batch number using input() function.\n"
   ]
  },
  {
   "cell_type": "code",
   "execution_count": 17,
   "id": "94e9a04f-df58-4a0d-a49e-f2ba63051beb",
   "metadata": {},
   "outputs": [
    {
     "name": "stdin",
     "output_type": "stream",
     "text": [
      "Enter batch number: 8\n"
     ]
    },
    {
     "name": "stdout",
     "output_type": "stream",
     "text": [
      "Batch Number =  8\n"
     ]
    }
   ],
   "source": [
    "Batch_Number = input('Enter batch number:')\n",
    "\n",
    "print('Batch Number = ', Batch_Number)"
   ]
  },
  {
   "cell_type": "markdown",
   "id": "c1393af1-6db4-4fe7-b726-292923f6a832",
   "metadata": {},
   "source": [
    "##### 3. Create 5 different valid Variables and print.\n"
   ]
  },
  {
   "cell_type": "code",
   "execution_count": 5,
   "id": "1ef2b403-16f9-4b78-8064-3d397db7f07b",
   "metadata": {},
   "outputs": [
    {
     "name": "stdout",
     "output_type": "stream",
     "text": [
      "1 2 3 4 5\n"
     ]
    }
   ],
   "source": [
    "_variable = 1\n",
    "\n",
    "variable = 2\n",
    "\n",
    "variableNumberThree = 3\n",
    "\n",
    "VariableNumberFour = 4\n",
    "\n",
    "Variable_Number_Five = 5\n",
    "\n",
    "print(_variable, variable, variableNumberThree, VariableNumberFour, Variable_Number_Five)"
   ]
  },
  {
   "cell_type": "markdown",
   "id": "02697464-ae06-4558-8a7e-078230ad2fc1",
   "metadata": {},
   "source": [
    "##### 4. Create Pascal Case Variable.\n"
   ]
  },
  {
   "cell_type": "code",
   "execution_count": 7,
   "id": "4d94c522-83d3-4f9a-b94d-4510ef9d474c",
   "metadata": {},
   "outputs": [
    {
     "name": "stdout",
     "output_type": "stream",
     "text": [
      "1\n"
     ]
    }
   ],
   "source": [
    "DjangoAssignmentOne = 1\n",
    "\n",
    "print(DjangoAssignmentOne)"
   ]
  },
  {
   "cell_type": "markdown",
   "id": "d65844f5-8823-4ec5-8d66-7e9ede51b9ea",
   "metadata": {},
   "source": [
    "##### 5. Assign a single value to Multiple variables.\n"
   ]
  },
  {
   "cell_type": "code",
   "execution_count": 9,
   "id": "8f56ecd1-31d0-43e7-9db7-358eef0c8162",
   "metadata": {},
   "outputs": [
    {
     "name": "stdout",
     "output_type": "stream",
     "text": [
      "Python = 1\n",
      "Django = 1\n",
      "App = 1\n"
     ]
    }
   ],
   "source": [
    "Python = Django = Web = App = 1\n",
    "\n",
    "print(\"Python =\", Python)\n",
    "print(\"Django =\", Django)\n",
    "print(\"App =\", App)"
   ]
  },
  {
   "cell_type": "markdown",
   "id": "117d6727-f606-4e9d-b747-5f88e8a4c141",
   "metadata": {},
   "source": [
    "##### 6. Input float value using input().\n"
   ]
  },
  {
   "cell_type": "code",
   "execution_count": 14,
   "id": "605ff7ad-879f-444e-a4e3-5e83323022a6",
   "metadata": {},
   "outputs": [
    {
     "name": "stdin",
     "output_type": "stream",
     "text": [
      "Enter a Float value: 4.98\n"
     ]
    },
    {
     "name": "stdout",
     "output_type": "stream",
     "text": [
      "4.98\n"
     ]
    }
   ],
   "source": [
    "value = float(input(\"Enter a Float value:\"))\n",
    "\n",
    "print(value)"
   ]
  },
  {
   "cell_type": "markdown",
   "id": "0e686c08-d88f-47d1-aa14-19795ce8a8c1",
   "metadata": {},
   "source": [
    "##### 7. a = ‘Welcome to Django for web and Ai’ convert into upper case.\n"
   ]
  },
  {
   "cell_type": "code",
   "execution_count": 13,
   "id": "991a7d6c-2191-4f89-ab3a-1dc6ad57d240",
   "metadata": {},
   "outputs": [
    {
     "name": "stdout",
     "output_type": "stream",
     "text": [
      "WELCOME TO DJANGO FOR WEB AND AI\n"
     ]
    }
   ],
   "source": [
    "a = 'Welcome to Django for web and Ai'\n",
    "\n",
    "print(a.upper())"
   ]
  },
  {
   "cell_type": "markdown",
   "id": "b633749b-f4f6-4350-9e62-9f885118d619",
   "metadata": {},
   "source": [
    "##### 8. b = ‘ Python’remove whitespace."
   ]
  },
  {
   "cell_type": "code",
   "execution_count": 15,
   "id": "c83a4050-8c15-4172-ae42-ccebaf50a3fa",
   "metadata": {},
   "outputs": [
    {
     "name": "stdout",
     "output_type": "stream",
     "text": [
      "Python\n"
     ]
    }
   ],
   "source": [
    "b= ' Python'\n",
    "\n",
    "print(b.strip())"
   ]
  }
 ],
 "metadata": {
  "kernelspec": {
   "display_name": "Python 3 (ipykernel)",
   "language": "python",
   "name": "python3"
  },
  "language_info": {
   "codemirror_mode": {
    "name": "ipython",
    "version": 3
   },
   "file_extension": ".py",
   "mimetype": "text/x-python",
   "name": "python",
   "nbconvert_exporter": "python",
   "pygments_lexer": "ipython3",
   "version": "3.11.4"
  },
  "widgets": {
   "application/vnd.jupyter.widget-state+json": {
    "state": {},
    "version_major": 2,
    "version_minor": 0
   }
  }
 },
 "nbformat": 4,
 "nbformat_minor": 5
}
